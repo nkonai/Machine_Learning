{
 "cells": [
  {
   "cell_type": "markdown",
   "id": "af5a4bf0",
   "metadata": {},
   "source": [
    "# KNN 1"
   ]
  },
  {
   "cell_type": "markdown",
   "id": "7dac8dae",
   "metadata": {},
   "source": [
    "O conjunto de dados de flores de íris é um conjunto de dados multivariado introduzido pelo estatístico,\n",
    "Ronald Fisher em seu artigo de 1936. O conjunto de dados contém 3 classes de 50 instâncias cada, onde cada\n",
    "classe se refere a um tipo de planta de íris."
   ]
  },
  {
   "cell_type": "code",
   "execution_count": 1,
   "id": "80c1d3b2",
   "metadata": {},
   "outputs": [],
   "source": [
    "#Libraries\n",
    "import pandas as pd\n",
    "import numpy as np\n",
    "import seaborn as sns\n",
    "import matplotlib.pyplot as plt\n",
    "%matplotlib inline\n",
    "import random\n",
    "import warnings\n",
    "warnings.filterwarnings(\"ignore\")\n",
    "\n",
    "#Split Data Train and Test\n",
    "from sklearn.model_selection import train_test_split, StratifiedKFold, cross_val_score, GridSearchCV\n",
    "\n",
    "#Modelling\n",
    "from sklearn.pipeline import Pipeline\n",
    "from sklearn.neighbors import KNeighborsClassifier\n",
    "from sklearn.preprocessing import MinMaxScaler\n",
    "from sklearn.metrics import accuracy_score, classification_report"
   ]
  },
  {
   "cell_type": "code",
   "execution_count": 2,
   "id": "77b3fee2",
   "metadata": {},
   "outputs": [],
   "source": [
    "pd.options.display.float_format = \"{:.4f}\".format"
   ]
  },
  {
   "cell_type": "markdown",
   "id": "7c8a03ec",
   "metadata": {},
   "source": [
    "## 1) Coletando e explorando os dados"
   ]
  },
  {
   "cell_type": "markdown",
   "id": "281e391e",
   "metadata": {},
   "source": [
    "### a) Carregando os dados “iris”"
   ]
  },
  {
   "cell_type": "code",
   "execution_count": 3,
   "id": "e5f47d17",
   "metadata": {},
   "outputs": [],
   "source": [
    "iris=pd.read_csv('C:/Users/nicol/FGV/1_KNN/iris.csv')"
   ]
  },
  {
   "cell_type": "code",
   "execution_count": 4,
   "id": "70f26534",
   "metadata": {},
   "outputs": [
    {
     "data": {
      "text/html": [
       "<div>\n",
       "<style scoped>\n",
       "    .dataframe tbody tr th:only-of-type {\n",
       "        vertical-align: middle;\n",
       "    }\n",
       "\n",
       "    .dataframe tbody tr th {\n",
       "        vertical-align: top;\n",
       "    }\n",
       "\n",
       "    .dataframe thead th {\n",
       "        text-align: right;\n",
       "    }\n",
       "</style>\n",
       "<table border=\"1\" class=\"dataframe\">\n",
       "  <thead>\n",
       "    <tr style=\"text-align: right;\">\n",
       "      <th></th>\n",
       "      <th>Sepal.Length</th>\n",
       "      <th>Sepal.Width</th>\n",
       "      <th>Petal.Length</th>\n",
       "      <th>Petal.Width</th>\n",
       "      <th>Class</th>\n",
       "    </tr>\n",
       "  </thead>\n",
       "  <tbody>\n",
       "    <tr>\n",
       "      <th>0</th>\n",
       "      <td>5.1000</td>\n",
       "      <td>3.5000</td>\n",
       "      <td>1.4000</td>\n",
       "      <td>0.2000</td>\n",
       "      <td>iris-setosa</td>\n",
       "    </tr>\n",
       "    <tr>\n",
       "      <th>1</th>\n",
       "      <td>4.9000</td>\n",
       "      <td>3.0000</td>\n",
       "      <td>1.4000</td>\n",
       "      <td>0.2000</td>\n",
       "      <td>iris-setosa</td>\n",
       "    </tr>\n",
       "    <tr>\n",
       "      <th>2</th>\n",
       "      <td>4.7000</td>\n",
       "      <td>3.2000</td>\n",
       "      <td>1.3000</td>\n",
       "      <td>0.2000</td>\n",
       "      <td>iris-setosa</td>\n",
       "    </tr>\n",
       "    <tr>\n",
       "      <th>3</th>\n",
       "      <td>4.6000</td>\n",
       "      <td>3.1000</td>\n",
       "      <td>1.5000</td>\n",
       "      <td>0.2000</td>\n",
       "      <td>iris-setosa</td>\n",
       "    </tr>\n",
       "    <tr>\n",
       "      <th>4</th>\n",
       "      <td>5.0000</td>\n",
       "      <td>3.6000</td>\n",
       "      <td>1.4000</td>\n",
       "      <td>0.2000</td>\n",
       "      <td>iris-setosa</td>\n",
       "    </tr>\n",
       "  </tbody>\n",
       "</table>\n",
       "</div>"
      ],
      "text/plain": [
       "   Sepal.Length  Sepal.Width  Petal.Length  Petal.Width        Class\n",
       "0        5.1000       3.5000        1.4000       0.2000  iris-setosa\n",
       "1        4.9000       3.0000        1.4000       0.2000  iris-setosa\n",
       "2        4.7000       3.2000        1.3000       0.2000  iris-setosa\n",
       "3        4.6000       3.1000        1.5000       0.2000  iris-setosa\n",
       "4        5.0000       3.6000        1.4000       0.2000  iris-setosa"
      ]
     },
     "execution_count": 4,
     "metadata": {},
     "output_type": "execute_result"
    }
   ],
   "source": [
    "iris.head()"
   ]
  },
  {
   "cell_type": "code",
   "execution_count": 5,
   "id": "38e7f9c3",
   "metadata": {},
   "outputs": [
    {
     "name": "stdout",
     "output_type": "stream",
     "text": [
      "<class 'pandas.core.frame.DataFrame'>\n",
      "RangeIndex: 150 entries, 0 to 149\n",
      "Data columns (total 5 columns):\n",
      " #   Column        Non-Null Count  Dtype  \n",
      "---  ------        --------------  -----  \n",
      " 0   Sepal.Length  150 non-null    float64\n",
      " 1   Sepal.Width   150 non-null    float64\n",
      " 2   Petal.Length  150 non-null    float64\n",
      " 3   Petal.Width   150 non-null    float64\n",
      " 4   Class         150 non-null    object \n",
      "dtypes: float64(4), object(1)\n",
      "memory usage: 6.0+ KB\n"
     ]
    }
   ],
   "source": [
    "iris.info()"
   ]
  },
  {
   "cell_type": "markdown",
   "id": "baac3f16",
   "metadata": {},
   "source": [
    "### b) Determinar o tamanho da amostra de cada tipo de classe."
   ]
  },
  {
   "cell_type": "code",
   "execution_count": 6,
   "id": "e02ee27a",
   "metadata": {},
   "outputs": [
    {
     "data": {
      "image/png": "[encoded data removed]",
      "text/plain": [
       "<Figure size 640x480 with 1 Axes>"
      ]
     },
     "metadata": {},
     "output_type": "display_data"
    }
   ],
   "source": [
    "sns.countplot(data=iris,x=\"Class\",color=\"blue\")\n",
    "plt.show()"
   ]
  },
  {
   "cell_type": "markdown",
   "id": "1c5bde3c",
   "metadata": {},
   "source": [
    "### c) A amostra é uniforme, ou temos diferentes alguma classe com mais elementos?\n"
   ]
  },
  {
   "cell_type": "markdown",
   "id": "0bff36a4",
   "metadata": {},
   "source": [
    "A amostra parece ser uniforme, com 50 observações em cada classe."
   ]
  },
  {
   "cell_type": "markdown",
   "id": "896651d9",
   "metadata": {},
   "source": [
    "### d) Calcular as correlações dentre as variáveis. Existem correlações muito extremas?"
   ]
  },
  {
   "cell_type": "code",
   "execution_count": 7,
   "id": "c745e118",
   "metadata": {
    "scrolled": true
   },
   "outputs": [
    {
     "data": {
      "image/png": "[encoded data removed]",
      "text/plain": [
       "<Figure size 1000x500 with 2 Axes>"
      ]
     },
     "metadata": {},
     "output_type": "display_data"
    }
   ],
   "source": [
    "plt.figure(figsize=(10,5))\n",
    "sns.heatmap(iris.iloc[:,:-1].corr(),cmap=sns.cubehelix_palette(as_cmap=True),annot=True)\n",
    "plt.show()"
   ]
  },
  {
   "cell_type": "code",
   "execution_count": 8,
   "id": "cb979fe8",
   "metadata": {
    "scrolled": true
   },
   "outputs": [
    {
     "data": {
      "text/html": [
       "<div>\n",
       "<style scoped>\n",
       "    .dataframe tbody tr th:only-of-type {\n",
       "        vertical-align: middle;\n",
       "    }\n",
       "\n",
       "    .dataframe tbody tr th {\n",
       "        vertical-align: top;\n",
       "    }\n",
       "\n",
       "    .dataframe thead th {\n",
       "        text-align: right;\n",
       "    }\n",
       "</style>\n",
       "<table border=\"1\" class=\"dataframe\">\n",
       "  <thead>\n",
       "    <tr style=\"text-align: right;\">\n",
       "      <th></th>\n",
       "      <th>Sepal.Length</th>\n",
       "      <th>Sepal.Width</th>\n",
       "      <th>Petal.Length</th>\n",
       "      <th>Petal.Width</th>\n",
       "    </tr>\n",
       "  </thead>\n",
       "  <tbody>\n",
       "    <tr>\n",
       "      <th>Sepal.Length</th>\n",
       "      <td>1.0000</td>\n",
       "      <td>-0.1094</td>\n",
       "      <td>0.8718</td>\n",
       "      <td>0.8180</td>\n",
       "    </tr>\n",
       "    <tr>\n",
       "      <th>Sepal.Width</th>\n",
       "      <td>-0.1094</td>\n",
       "      <td>1.0000</td>\n",
       "      <td>-0.4205</td>\n",
       "      <td>-0.3565</td>\n",
       "    </tr>\n",
       "    <tr>\n",
       "      <th>Petal.Length</th>\n",
       "      <td>0.8718</td>\n",
       "      <td>-0.4205</td>\n",
       "      <td>1.0000</td>\n",
       "      <td>0.9628</td>\n",
       "    </tr>\n",
       "    <tr>\n",
       "      <th>Petal.Width</th>\n",
       "      <td>0.8180</td>\n",
       "      <td>-0.3565</td>\n",
       "      <td>0.9628</td>\n",
       "      <td>1.0000</td>\n",
       "    </tr>\n",
       "  </tbody>\n",
       "</table>\n",
       "</div>"
      ],
      "text/plain": [
       "              Sepal.Length  Sepal.Width  Petal.Length  Petal.Width\n",
       "Sepal.Length        1.0000      -0.1094        0.8718       0.8180\n",
       "Sepal.Width        -0.1094       1.0000       -0.4205      -0.3565\n",
       "Petal.Length        0.8718      -0.4205        1.0000       0.9628\n",
       "Petal.Width         0.8180      -0.3565        0.9628       1.0000"
      ]
     },
     "execution_count": 8,
     "metadata": {},
     "output_type": "execute_result"
    }
   ],
   "source": [
    "iris.iloc[:,:-1].corr()"
   ]
  },
  {
   "cell_type": "markdown",
   "id": "eeadd687",
   "metadata": {},
   "source": [
    "A análise de correlações nos mostra que há altas correlações entre o comprimento e a largura de pétalas (\"petal length\" e \"petal width\", cerca de 0.96),\n",
    "assim como entre o comprimento das petalas e e o comprimento das sépalas (\"petal length\" e \"sepal length\", cerca de 0.87)"
   ]
  },
  {
   "cell_type": "markdown",
   "id": "f8f9bfec",
   "metadata": {},
   "source": [
    "## 2) Preparando os dados"
   ]
  },
  {
   "cell_type": "markdown",
   "id": "ef148665",
   "metadata": {},
   "source": [
    "### a) Boxplot das variáveis. Você diria que as variáveis têm valores similares?"
   ]
  },
  {
   "cell_type": "code",
   "execution_count": 9,
   "id": "c00e0f62",
   "metadata": {
    "scrolled": false
   },
   "outputs": [
    {
     "data": {
      "image/png": "[encoded data removed]",
      "text/plain": [
       "<Figure size 1500x1000 with 1 Axes>"
      ]
     },
     "metadata": {},
     "output_type": "display_data"
    }
   ],
   "source": [
    "plt.figure(figsize=(15,10))\n",
    "sns.boxplot(data=iris.iloc[:,:-1],color=\"green\")\n",
    "plt.show()"
   ]
  },
  {
   "cell_type": "code",
   "execution_count": 10,
   "id": "a8dd96f2",
   "metadata": {},
   "outputs": [
    {
     "data": {
      "text/html": [
       "<div>\n",
       "<style scoped>\n",
       "    .dataframe tbody tr th:only-of-type {\n",
       "        vertical-align: middle;\n",
       "    }\n",
       "\n",
       "    .dataframe tbody tr th {\n",
       "        vertical-align: top;\n",
       "    }\n",
       "\n",
       "    .dataframe thead th {\n",
       "        text-align: right;\n",
       "    }\n",
       "</style>\n",
       "<table border=\"1\" class=\"dataframe\">\n",
       "  <thead>\n",
       "    <tr style=\"text-align: right;\">\n",
       "      <th></th>\n",
       "      <th>Sepal.Length</th>\n",
       "      <th>Sepal.Width</th>\n",
       "      <th>Petal.Length</th>\n",
       "      <th>Petal.Width</th>\n",
       "    </tr>\n",
       "  </thead>\n",
       "  <tbody>\n",
       "    <tr>\n",
       "      <th>count</th>\n",
       "      <td>150.0000</td>\n",
       "      <td>150.0000</td>\n",
       "      <td>150.0000</td>\n",
       "      <td>150.0000</td>\n",
       "    </tr>\n",
       "    <tr>\n",
       "      <th>mean</th>\n",
       "      <td>5.8433</td>\n",
       "      <td>3.0540</td>\n",
       "      <td>3.7587</td>\n",
       "      <td>1.1987</td>\n",
       "    </tr>\n",
       "    <tr>\n",
       "      <th>std</th>\n",
       "      <td>0.8281</td>\n",
       "      <td>0.4336</td>\n",
       "      <td>1.7644</td>\n",
       "      <td>0.7632</td>\n",
       "    </tr>\n",
       "    <tr>\n",
       "      <th>min</th>\n",
       "      <td>4.3000</td>\n",
       "      <td>2.0000</td>\n",
       "      <td>1.0000</td>\n",
       "      <td>0.1000</td>\n",
       "    </tr>\n",
       "    <tr>\n",
       "      <th>25%</th>\n",
       "      <td>5.1000</td>\n",
       "      <td>2.8000</td>\n",
       "      <td>1.6000</td>\n",
       "      <td>0.3000</td>\n",
       "    </tr>\n",
       "    <tr>\n",
       "      <th>50%</th>\n",
       "      <td>5.8000</td>\n",
       "      <td>3.0000</td>\n",
       "      <td>4.3500</td>\n",
       "      <td>1.3000</td>\n",
       "    </tr>\n",
       "    <tr>\n",
       "      <th>75%</th>\n",
       "      <td>6.4000</td>\n",
       "      <td>3.3000</td>\n",
       "      <td>5.1000</td>\n",
       "      <td>1.8000</td>\n",
       "    </tr>\n",
       "    <tr>\n",
       "      <th>max</th>\n",
       "      <td>7.9000</td>\n",
       "      <td>4.4000</td>\n",
       "      <td>6.9000</td>\n",
       "      <td>2.5000</td>\n",
       "    </tr>\n",
       "  </tbody>\n",
       "</table>\n",
       "</div>"
      ],
      "text/plain": [
       "       Sepal.Length  Sepal.Width  Petal.Length  Petal.Width\n",
       "count      150.0000     150.0000      150.0000     150.0000\n",
       "mean         5.8433       3.0540        3.7587       1.1987\n",
       "std          0.8281       0.4336        1.7644       0.7632\n",
       "min          4.3000       2.0000        1.0000       0.1000\n",
       "25%          5.1000       2.8000        1.6000       0.3000\n",
       "50%          5.8000       3.0000        4.3500       1.3000\n",
       "75%          6.4000       3.3000        5.1000       1.8000\n",
       "max          7.9000       4.4000        6.9000       2.5000"
      ]
     },
     "execution_count": 10,
     "metadata": {},
     "output_type": "execute_result"
    }
   ],
   "source": [
    "iris.describe()"
   ]
  },
  {
   "cell_type": "markdown",
   "id": "3b13a0c9",
   "metadata": {},
   "source": [
    "O boxplot apresenta os valores das variáveis que parecem estar em uma mesma escala variando de 0 a 8. Entretanto, enquanto algumas variáveis possuem valores mais elevados (como o comprimento de sépalas - entre 4 e 8), outras possuem valores mais baixos (como é o caso da largura das pétalas - entre 0 e 3)."
   ]
  },
  {
   "cell_type": "markdown",
   "id": "38b070c7",
   "metadata": {},
   "source": [
    "### b) Normalização das variáveis (média zero e desvio padrão igual a um)."
   ]
  },
  {
   "cell_type": "code",
   "execution_count": 11,
   "id": "54d44dc4",
   "metadata": {},
   "outputs": [
    {
     "data": {
      "text/html": [
       "<div>\n",
       "<style scoped>\n",
       "    .dataframe tbody tr th:only-of-type {\n",
       "        vertical-align: middle;\n",
       "    }\n",
       "\n",
       "    .dataframe tbody tr th {\n",
       "        vertical-align: top;\n",
       "    }\n",
       "\n",
       "    .dataframe thead th {\n",
       "        text-align: right;\n",
       "    }\n",
       "</style>\n",
       "<table border=\"1\" class=\"dataframe\">\n",
       "  <thead>\n",
       "    <tr style=\"text-align: right;\">\n",
       "      <th></th>\n",
       "      <th>Sepal.Length</th>\n",
       "      <th>Sepal.Width</th>\n",
       "      <th>Petal.Length</th>\n",
       "      <th>Petal.Width</th>\n",
       "    </tr>\n",
       "  </thead>\n",
       "  <tbody>\n",
       "    <tr>\n",
       "      <th>0</th>\n",
       "      <td>0.2222</td>\n",
       "      <td>0.6250</td>\n",
       "      <td>0.0678</td>\n",
       "      <td>0.0417</td>\n",
       "    </tr>\n",
       "    <tr>\n",
       "      <th>1</th>\n",
       "      <td>0.1667</td>\n",
       "      <td>0.4167</td>\n",
       "      <td>0.0678</td>\n",
       "      <td>0.0417</td>\n",
       "    </tr>\n",
       "    <tr>\n",
       "      <th>2</th>\n",
       "      <td>0.1111</td>\n",
       "      <td>0.5000</td>\n",
       "      <td>0.0508</td>\n",
       "      <td>0.0417</td>\n",
       "    </tr>\n",
       "    <tr>\n",
       "      <th>3</th>\n",
       "      <td>0.0833</td>\n",
       "      <td>0.4583</td>\n",
       "      <td>0.0847</td>\n",
       "      <td>0.0417</td>\n",
       "    </tr>\n",
       "    <tr>\n",
       "      <th>4</th>\n",
       "      <td>0.1944</td>\n",
       "      <td>0.6667</td>\n",
       "      <td>0.0678</td>\n",
       "      <td>0.0417</td>\n",
       "    </tr>\n",
       "  </tbody>\n",
       "</table>\n",
       "</div>"
      ],
      "text/plain": [
       "   Sepal.Length  Sepal.Width  Petal.Length  Petal.Width\n",
       "0        0.2222       0.6250        0.0678       0.0417\n",
       "1        0.1667       0.4167        0.0678       0.0417\n",
       "2        0.1111       0.5000        0.0508       0.0417\n",
       "3        0.0833       0.4583        0.0847       0.0417\n",
       "4        0.1944       0.6667        0.0678       0.0417"
      ]
     },
     "execution_count": 11,
     "metadata": {},
     "output_type": "execute_result"
    }
   ],
   "source": [
    "from sklearn.preprocessing import MinMaxScaler\n",
    "colunas=iris.iloc[:,:-1].columns\n",
    "irisscaled=iris.iloc[:,:-1].copy()\n",
    "norm=MinMaxScaler()\n",
    "irisscaled=pd.DataFrame(norm.fit_transform(irisscaled),columns=colunas)\n",
    "irisscaled.head()"
   ]
  },
  {
   "cell_type": "markdown",
   "id": "4e19c2f4",
   "metadata": {},
   "source": [
    "### c) Boxplot das variáveis normalizadas. Você diria que as variáveis têm valores similares?"
   ]
  },
  {
   "cell_type": "code",
   "execution_count": 12,
   "id": "c6e2f56c",
   "metadata": {},
   "outputs": [
    {
     "data": {
      "text/plain": [
       "<AxesSubplot:>"
      ]
     },
     "execution_count": 12,
     "metadata": {},
     "output_type": "execute_result"
    },
    {
     "data": {
      "image/png": "[encoded data removed]",
      "text/plain": [
       "<Figure size 1500x1000 with 1 Axes>"
      ]
     },
     "metadata": {},
     "output_type": "display_data"
    }
   ],
   "source": [
    "plt.figure(figsize=(15,10))\n",
    "sns.boxplot(data=irisscaled,color='green')\n"
   ]
  },
  {
   "cell_type": "markdown",
   "id": "84672d65",
   "metadata": {},
   "source": [
    "## 3) Amostras de Treinamento e Teste"
   ]
  },
  {
   "cell_type": "markdown",
   "id": "d2f14125",
   "metadata": {},
   "source": [
    "### a) Separar a amostra em duas partes uma para de treino e uma para teste (divisão de 50/50 entre amostra de teste e treinamento)."
   ]
  },
  {
   "cell_type": "code",
   "execution_count": 13,
   "id": "5af3c38d",
   "metadata": {},
   "outputs": [],
   "source": [
    "random.seed(12345)\n",
    "X=irisscaled.values\n",
    "Y=iris.iloc[:,-1].values"
   ]
  },
  {
   "cell_type": "code",
   "execution_count": 14,
   "id": "dbe2c8a5",
   "metadata": {},
   "outputs": [],
   "source": [
    "from sklearn.model_selection import train_test_split\n",
    "X_train,X_test,Y_train,Y_test = train_test_split(X,Y,test_size = 0.5, random_state = 42)"
   ]
  },
  {
   "cell_type": "markdown",
   "id": "58e1e727",
   "metadata": {},
   "source": [
    "## 4) Modelo de Treinamento"
   ]
  },
  {
   "cell_type": "markdown",
   "id": "616bc6c2",
   "metadata": {},
   "source": [
    "### a) Carregue o pacote FNN"
   ]
  },
  {
   "cell_type": "markdown",
   "id": "2f585715",
   "metadata": {},
   "source": [
    "### b) Utilizar a função knn com a amostra de treinamento, e estime um KNN utilizando 2 vizinhos (k=2)"
   ]
  },
  {
   "cell_type": "code",
   "execution_count": 15,
   "id": "f3b9dc14",
   "metadata": {},
   "outputs": [],
   "source": [
    "knn = KNeighborsClassifier(n_neighbors = 2)\n",
    "knn.fit(X_train,Y_train)\n",
    "pred_knn2 = knn.predict(X_test)"
   ]
  },
  {
   "cell_type": "markdown",
   "id": "a949add7",
   "metadata": {},
   "source": [
    "## 5) Avaliando a performance do modelo"
   ]
  },
  {
   "cell_type": "markdown",
   "id": "29df690b",
   "metadata": {},
   "source": [
    "### a) “confusion matrix” e avaliação do resultado do modelo. Qual é a precisão geral da classificação usando os dados do conjunto de teste? (dica para isso utilize o comando table)"
   ]
  },
  {
   "cell_type": "code",
   "execution_count": 16,
   "id": "8d9c1fd5",
   "metadata": {},
   "outputs": [
    {
     "data": {
      "text/plain": [
       "array([[29,  0,  0],\n",
       "       [ 0, 23,  0],\n",
       "       [ 0,  3, 20]], dtype=int64)"
      ]
     },
     "execution_count": 16,
     "metadata": {},
     "output_type": "execute_result"
    }
   ],
   "source": [
    "from sklearn.metrics import confusion_matrix\n",
    "mc = confusion_matrix(Y_test, pred_knn2)\n",
    "mc"
   ]
  },
  {
   "cell_type": "code",
   "execution_count": 17,
   "id": "e6562966",
   "metadata": {},
   "outputs": [
    {
     "name": "stdout",
     "output_type": "stream",
     "text": [
      "A precisão geral do modelo de classificação KNN2 é de: 0.960\n"
     ]
    }
   ],
   "source": [
    "ratio = accuracy_score(Y_test, pred_knn2)\n",
    "ratio\n",
    "\n",
    "print('A precisão geral do modelo de classificação KNN2 é de:','{:.3f}'.format(ratio))"
   ]
  },
  {
   "cell_type": "markdown",
   "id": "7ecd2031",
   "metadata": {},
   "source": [
    "## 6) Melhorando a performance do modelo"
   ]
  },
  {
   "cell_type": "markdown",
   "id": "aa139b97",
   "metadata": {},
   "source": [
    "### a) Itens 4 e 5 utilizando a um total de 3, 5 e 7 vizinhos."
   ]
  },
  {
   "cell_type": "code",
   "execution_count": 18,
   "id": "efc90f93",
   "metadata": {},
   "outputs": [],
   "source": [
    "knn3 = KNeighborsClassifier(n_neighbors = 3)\n",
    "knn3.fit(X_train,Y_train)\n",
    "pred_knn3 = knn3.predict(X_test)\n",
    "\n"
   ]
  },
  {
   "cell_type": "code",
   "execution_count": 19,
   "id": "683cdebb",
   "metadata": {},
   "outputs": [
    {
     "data": {
      "text/plain": [
       "array([[29,  0,  0],\n",
       "       [ 0, 23,  0],\n",
       "       [ 0,  1, 22]], dtype=int64)"
      ]
     },
     "execution_count": 19,
     "metadata": {},
     "output_type": "execute_result"
    }
   ],
   "source": [
    "from sklearn.metrics import confusion_matrix\n",
    "mc = confusion_matrix(Y_test, pred_knn3)\n",
    "mc\n"
   ]
  },
  {
   "cell_type": "code",
   "execution_count": 20,
   "id": "5bc6340a",
   "metadata": {},
   "outputs": [
    {
     "name": "stdout",
     "output_type": "stream",
     "text": [
      "A precisão geral do modelo de classificação KNN3 é de: 0.987\n"
     ]
    }
   ],
   "source": [
    "ratio3 = accuracy_score(Y_test, pred_knn3)\n",
    "ratio3\n",
    "\n",
    "print('A precisão geral do modelo de classificação KNN3 é de:','{:.3f}'.format(ratio3))"
   ]
  },
  {
   "cell_type": "code",
   "execution_count": 21,
   "id": "e42b06d7",
   "metadata": {},
   "outputs": [],
   "source": [
    "knn5 = KNeighborsClassifier(n_neighbors = 5)\n",
    "knn5.fit(X_train,Y_train)\n",
    "pred_knn5 = knn5.predict(X_test)"
   ]
  },
  {
   "cell_type": "code",
   "execution_count": 22,
   "id": "a72d8f56",
   "metadata": {},
   "outputs": [
    {
     "data": {
      "text/plain": [
       "array([[29,  0,  0],\n",
       "       [ 0, 23,  0],\n",
       "       [ 0,  1, 22]], dtype=int64)"
      ]
     },
     "execution_count": 22,
     "metadata": {},
     "output_type": "execute_result"
    }
   ],
   "source": [
    "from sklearn.metrics import confusion_matrix\n",
    "mc = confusion_matrix(Y_test, pred_knn5)\n",
    "mc"
   ]
  },
  {
   "cell_type": "code",
   "execution_count": 23,
   "id": "9b7bc27a",
   "metadata": {},
   "outputs": [
    {
     "name": "stdout",
     "output_type": "stream",
     "text": [
      "A precisão geral do modelo de classificação KNN5 é de: 0.987\n"
     ]
    }
   ],
   "source": [
    "ratio5 = accuracy_score(Y_test, pred_knn5)\n",
    "ratio5\n",
    "\n",
    "print('A precisão geral do modelo de classificação KNN5 é de:','{:.3f}'.format(ratio5))"
   ]
  },
  {
   "cell_type": "code",
   "execution_count": 24,
   "id": "7ea3efbd",
   "metadata": {},
   "outputs": [
    {
     "name": "stdout",
     "output_type": "stream",
     "text": [
      "A precisão geral do modelo de classificação KNN7 é de: 0.987\n"
     ]
    }
   ],
   "source": [
    "knn7 = KNeighborsClassifier(n_neighbors = 7)\n",
    "knn7.fit(X_train,Y_train)\n",
    "pred_knn7 = knn7.predict(X_test)\n",
    "\n",
    "from sklearn.metrics import confusion_matrix\n",
    "mc = confusion_matrix(Y_test, pred_knn7)\n",
    "mc\n",
    "\n",
    "ratio7 = accuracy_score(Y_test, pred_knn7)\n",
    "ratio7\n",
    "\n",
    "print('A precisão geral do modelo de classificação KNN7 é de:','{:.3f}'.format(ratio7))"
   ]
  },
  {
   "cell_type": "code",
   "execution_count": 25,
   "id": "7165d0e0",
   "metadata": {},
   "outputs": [
    {
     "data": {
      "image/png": "[encoded data removed]",
      "text/plain": [
       "<Figure size 640x480 with 1 Axes>"
      ]
     },
     "metadata": {},
     "output_type": "display_data"
    }
   ],
   "source": [
    "acuracia = []\n",
    "intervalo = range(1,75)\n",
    "for i in intervalo:\n",
    "    knn = KNeighborsClassifier(n_neighbors = i)\n",
    "    knn.fit(X_train,Y_train)\n",
    "    pred_knn = knn.predict(X_test)\n",
    "    ratio = accuracy_score(Y_test, pred_knn)\n",
    "    acuracia.append(ratio)\n",
    "sns.lineplot(x=intervalo,y=acuracia)\n",
    "plt.show()"
   ]
  },
  {
   "cell_type": "markdown",
   "id": "4aea49ac",
   "metadata": {},
   "source": [
    "### b) Há melhorias no modelo?"
   ]
  },
  {
   "cell_type": "markdown",
   "id": "cbbb68ed",
   "metadata": {},
   "source": [
    "Sim, houve melhora do modelo com o aumento do número de vizinhos. A acurácia aumenta para 0.987"
   ]
  },
  {
   "cell_type": "code",
   "execution_count": null,
   "id": "988111cf",
   "metadata": {},
   "outputs": [],
   "source": []
  }
 ],
 "metadata": {
  "kernelspec": {
   "display_name": "Python 3 (ipykernel)",
   "language": "python",
   "name": "python3"
  },
  "language_info": {
   "codemirror_mode": {
    "name": "ipython",
    "version": 3
   },
   "file_extension": ".py",
   "mimetype": "text/x-python",
   "name": "python",
   "nbconvert_exporter": "python",
   "pygments_lexer": "ipython3",
   "version": "3.9.13"
  }
 },
 "nbformat": 4,
 "nbformat_minor": 5
}
