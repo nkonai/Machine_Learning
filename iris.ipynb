{
 "cells": [
  {
   "cell_type": "markdown",
   "id": "af5a4bf0",
   "metadata": {},
   "source": [
    "# KNN 1"
   ]
  },
  {
   "cell_type": "markdown",
   "id": "7dac8dae",
   "metadata": {},
   "source": [
    "O conjunto de dados de flores de íris é um conjunto de dados multivariado introduzido pelo estatístico,\n",
    "Ronald Fisher em seu artigo de 1936. O conjunto de dados contém 3 classes de 50 instâncias cada, onde cada\n",
    "classe se refere a um tipo de planta de íris."
   ]
  },
  {
   "cell_type": "code",
   "execution_count": 1,
   "id": "80c1d3b2",
   "metadata": {},
   "outputs": [],
   "source": [
    "#Libraries\n",
    "import pandas as pd\n",
    "import numpy as np\n",
    "import seaborn as sns\n",
    "import matplotlib.pyplot as plt\n",
    "%matplotlib inline\n",
    "import random\n",
    "import warnings\n",
    "warnings.filterwarnings(\"ignore\")\n",
    "\n",
    "#Split Data Train and Test\n",
    "from sklearn.model_selection import train_test_split, StratifiedKFold, cross_val_score, GridSearchCV\n",
    "\n",
    "#Modelling\n",
    "from sklearn.pipeline import Pipeline\n",
    "from sklearn.neighbors import KNeighborsClassifier\n",
    "from sklearn.preprocessing import MinMaxScaler\n",
    "from sklearn.metrics import accuracy_score, classification_report"
   ]
  },
  {
   "cell_type": "code",
   "execution_count": 2,
   "id": "77b3fee2",
   "metadata": {},
   "outputs": [],
   "source": [
    "pd.options.display.float_format = \"{:.4f}\".format"
   ]
  },
  {
   "cell_type": "markdown",
   "id": "7c8a03ec",
   "metadata": {},
   "source": [
    "## 1) Coletando e explorando os dados"
   ]
  },
  {
   "cell_type": "markdown",
   "id": "281e391e",
   "metadata": {},
   "source": [
    "### a) Carregando os dados “iris”"
   ]
  },
  {
   "cell_type": "code",
   "execution_count": 3,
   "id": "e5f47d17",
   "metadata": {},
   "outputs": [
    {
     "ename": "FileNotFoundError",
     "evalue": "[Errno 2] No such file or directory: 'C:/Users/nicol/FGV/iris.csv'",
     "output_type": "error",
     "traceback": [
      "\u001b[1;31m---------------------------------------------------------------------------\u001b[0m",
      "\u001b[1;31mFileNotFoundError\u001b[0m                         Traceback (most recent call last)",
      "\u001b[1;32m~\\AppData\\Local\\Temp\\ipykernel_4304\\2828651932.py\u001b[0m in \u001b[0;36m<module>\u001b[1;34m\u001b[0m\n\u001b[1;32m----> 1\u001b[1;33m \u001b[0miris\u001b[0m\u001b[1;33m=\u001b[0m\u001b[0mpd\u001b[0m\u001b[1;33m.\u001b[0m\u001b[0mread_csv\u001b[0m\u001b[1;33m(\u001b[0m\u001b[1;34m'C:/Users/nicol/FGV/iris.csv'\u001b[0m\u001b[1;33m)\u001b[0m\u001b[1;33m\u001b[0m\u001b[1;33m\u001b[0m\u001b[0m\n\u001b[0m",
      "\u001b[1;32m~\\anaconda3b\\lib\\site-packages\\pandas\\util\\_decorators.py\u001b[0m in \u001b[0;36mwrapper\u001b[1;34m(*args, **kwargs)\u001b[0m\n\u001b[0;32m    309\u001b[0m                     \u001b[0mstacklevel\u001b[0m\u001b[1;33m=\u001b[0m\u001b[0mstacklevel\u001b[0m\u001b[1;33m,\u001b[0m\u001b[1;33m\u001b[0m\u001b[1;33m\u001b[0m\u001b[0m\n\u001b[0;32m    310\u001b[0m                 )\n\u001b[1;32m--> 311\u001b[1;33m             \u001b[1;32mreturn\u001b[0m \u001b[0mfunc\u001b[0m\u001b[1;33m(\u001b[0m\u001b[1;33m*\u001b[0m\u001b[0margs\u001b[0m\u001b[1;33m,\u001b[0m \u001b[1;33m**\u001b[0m\u001b[0mkwargs\u001b[0m\u001b[1;33m)\u001b[0m\u001b[1;33m\u001b[0m\u001b[1;33m\u001b[0m\u001b[0m\n\u001b[0m\u001b[0;32m    312\u001b[0m \u001b[1;33m\u001b[0m\u001b[0m\n\u001b[0;32m    313\u001b[0m         \u001b[1;32mreturn\u001b[0m \u001b[0mwrapper\u001b[0m\u001b[1;33m\u001b[0m\u001b[1;33m\u001b[0m\u001b[0m\n",
      "\u001b[1;32m~\\anaconda3b\\lib\\site-packages\\pandas\\io\\parsers\\readers.py\u001b[0m in \u001b[0;36mread_csv\u001b[1;34m(filepath_or_buffer, sep, delimiter, header, names, index_col, usecols, squeeze, prefix, mangle_dupe_cols, dtype, engine, converters, true_values, false_values, skipinitialspace, skiprows, skipfooter, nrows, na_values, keep_default_na, na_filter, verbose, skip_blank_lines, parse_dates, infer_datetime_format, keep_date_col, date_parser, dayfirst, cache_dates, iterator, chunksize, compression, thousands, decimal, lineterminator, quotechar, quoting, doublequote, escapechar, comment, encoding, encoding_errors, dialect, error_bad_lines, warn_bad_lines, on_bad_lines, delim_whitespace, low_memory, memory_map, float_precision, storage_options)\u001b[0m\n\u001b[0;32m    676\u001b[0m     \u001b[0mkwds\u001b[0m\u001b[1;33m.\u001b[0m\u001b[0mupdate\u001b[0m\u001b[1;33m(\u001b[0m\u001b[0mkwds_defaults\u001b[0m\u001b[1;33m)\u001b[0m\u001b[1;33m\u001b[0m\u001b[1;33m\u001b[0m\u001b[0m\n\u001b[0;32m    677\u001b[0m \u001b[1;33m\u001b[0m\u001b[0m\n\u001b[1;32m--> 678\u001b[1;33m     \u001b[1;32mreturn\u001b[0m \u001b[0m_read\u001b[0m\u001b[1;33m(\u001b[0m\u001b[0mfilepath_or_buffer\u001b[0m\u001b[1;33m,\u001b[0m \u001b[0mkwds\u001b[0m\u001b[1;33m)\u001b[0m\u001b[1;33m\u001b[0m\u001b[1;33m\u001b[0m\u001b[0m\n\u001b[0m\u001b[0;32m    679\u001b[0m \u001b[1;33m\u001b[0m\u001b[0m\n\u001b[0;32m    680\u001b[0m \u001b[1;33m\u001b[0m\u001b[0m\n",
      "\u001b[1;32m~\\anaconda3b\\lib\\site-packages\\pandas\\io\\parsers\\readers.py\u001b[0m in \u001b[0;36m_read\u001b[1;34m(filepath_or_buffer, kwds)\u001b[0m\n\u001b[0;32m    573\u001b[0m \u001b[1;33m\u001b[0m\u001b[0m\n\u001b[0;32m    574\u001b[0m     \u001b[1;31m# Create the parser.\u001b[0m\u001b[1;33m\u001b[0m\u001b[1;33m\u001b[0m\u001b[0m\n\u001b[1;32m--> 575\u001b[1;33m     \u001b[0mparser\u001b[0m \u001b[1;33m=\u001b[0m \u001b[0mTextFileReader\u001b[0m\u001b[1;33m(\u001b[0m\u001b[0mfilepath_or_buffer\u001b[0m\u001b[1;33m,\u001b[0m \u001b[1;33m**\u001b[0m\u001b[0mkwds\u001b[0m\u001b[1;33m)\u001b[0m\u001b[1;33m\u001b[0m\u001b[1;33m\u001b[0m\u001b[0m\n\u001b[0m\u001b[0;32m    576\u001b[0m \u001b[1;33m\u001b[0m\u001b[0m\n\u001b[0;32m    577\u001b[0m     \u001b[1;32mif\u001b[0m \u001b[0mchunksize\u001b[0m \u001b[1;32mor\u001b[0m \u001b[0miterator\u001b[0m\u001b[1;33m:\u001b[0m\u001b[1;33m\u001b[0m\u001b[1;33m\u001b[0m\u001b[0m\n",
      "\u001b[1;32m~\\anaconda3b\\lib\\site-packages\\pandas\\io\\parsers\\readers.py\u001b[0m in \u001b[0;36m__init__\u001b[1;34m(self, f, engine, **kwds)\u001b[0m\n\u001b[0;32m    930\u001b[0m \u001b[1;33m\u001b[0m\u001b[0m\n\u001b[0;32m    931\u001b[0m         \u001b[0mself\u001b[0m\u001b[1;33m.\u001b[0m\u001b[0mhandles\u001b[0m\u001b[1;33m:\u001b[0m \u001b[0mIOHandles\u001b[0m \u001b[1;33m|\u001b[0m \u001b[1;32mNone\u001b[0m \u001b[1;33m=\u001b[0m \u001b[1;32mNone\u001b[0m\u001b[1;33m\u001b[0m\u001b[1;33m\u001b[0m\u001b[0m\n\u001b[1;32m--> 932\u001b[1;33m         \u001b[0mself\u001b[0m\u001b[1;33m.\u001b[0m\u001b[0m_engine\u001b[0m \u001b[1;33m=\u001b[0m \u001b[0mself\u001b[0m\u001b[1;33m.\u001b[0m\u001b[0m_make_engine\u001b[0m\u001b[1;33m(\u001b[0m\u001b[0mf\u001b[0m\u001b[1;33m,\u001b[0m \u001b[0mself\u001b[0m\u001b[1;33m.\u001b[0m\u001b[0mengine\u001b[0m\u001b[1;33m)\u001b[0m\u001b[1;33m\u001b[0m\u001b[1;33m\u001b[0m\u001b[0m\n\u001b[0m\u001b[0;32m    933\u001b[0m \u001b[1;33m\u001b[0m\u001b[0m\n\u001b[0;32m    934\u001b[0m     \u001b[1;32mdef\u001b[0m \u001b[0mclose\u001b[0m\u001b[1;33m(\u001b[0m\u001b[0mself\u001b[0m\u001b[1;33m)\u001b[0m\u001b[1;33m:\u001b[0m\u001b[1;33m\u001b[0m\u001b[1;33m\u001b[0m\u001b[0m\n",
      "\u001b[1;32m~\\anaconda3b\\lib\\site-packages\\pandas\\io\\parsers\\readers.py\u001b[0m in \u001b[0;36m_make_engine\u001b[1;34m(self, f, engine)\u001b[0m\n\u001b[0;32m   1214\u001b[0m             \u001b[1;31m# \"Union[str, PathLike[str], ReadCsvBuffer[bytes], ReadCsvBuffer[str]]\"\u001b[0m\u001b[1;33m\u001b[0m\u001b[1;33m\u001b[0m\u001b[0m\n\u001b[0;32m   1215\u001b[0m             \u001b[1;31m# , \"str\", \"bool\", \"Any\", \"Any\", \"Any\", \"Any\", \"Any\"\u001b[0m\u001b[1;33m\u001b[0m\u001b[1;33m\u001b[0m\u001b[0m\n\u001b[1;32m-> 1216\u001b[1;33m             self.handles = get_handle(  # type: ignore[call-overload]\n\u001b[0m\u001b[0;32m   1217\u001b[0m                 \u001b[0mf\u001b[0m\u001b[1;33m,\u001b[0m\u001b[1;33m\u001b[0m\u001b[1;33m\u001b[0m\u001b[0m\n\u001b[0;32m   1218\u001b[0m                 \u001b[0mmode\u001b[0m\u001b[1;33m,\u001b[0m\u001b[1;33m\u001b[0m\u001b[1;33m\u001b[0m\u001b[0m\n",
      "\u001b[1;32m~\\anaconda3b\\lib\\site-packages\\pandas\\io\\common.py\u001b[0m in \u001b[0;36mget_handle\u001b[1;34m(path_or_buf, mode, encoding, compression, memory_map, is_text, errors, storage_options)\u001b[0m\n\u001b[0;32m    784\u001b[0m         \u001b[1;32mif\u001b[0m \u001b[0mioargs\u001b[0m\u001b[1;33m.\u001b[0m\u001b[0mencoding\u001b[0m \u001b[1;32mand\u001b[0m \u001b[1;34m\"b\"\u001b[0m \u001b[1;32mnot\u001b[0m \u001b[1;32min\u001b[0m \u001b[0mioargs\u001b[0m\u001b[1;33m.\u001b[0m\u001b[0mmode\u001b[0m\u001b[1;33m:\u001b[0m\u001b[1;33m\u001b[0m\u001b[1;33m\u001b[0m\u001b[0m\n\u001b[0;32m    785\u001b[0m             \u001b[1;31m# Encoding\u001b[0m\u001b[1;33m\u001b[0m\u001b[1;33m\u001b[0m\u001b[0m\n\u001b[1;32m--> 786\u001b[1;33m             handle = open(\n\u001b[0m\u001b[0;32m    787\u001b[0m                 \u001b[0mhandle\u001b[0m\u001b[1;33m,\u001b[0m\u001b[1;33m\u001b[0m\u001b[1;33m\u001b[0m\u001b[0m\n\u001b[0;32m    788\u001b[0m                 \u001b[0mioargs\u001b[0m\u001b[1;33m.\u001b[0m\u001b[0mmode\u001b[0m\u001b[1;33m,\u001b[0m\u001b[1;33m\u001b[0m\u001b[1;33m\u001b[0m\u001b[0m\n",
      "\u001b[1;31mFileNotFoundError\u001b[0m: [Errno 2] No such file or directory: 'C:/Users/nicol/FGV/iris.csv'"
     ]
    }
   ],
   "source": [
    "iris=pd.read_csv('C:/Users/nicol/FGV/iris.csv')"
   ]
  },
  {
   "cell_type": "code",
   "execution_count": null,
   "id": "70f26534",
   "metadata": {},
   "outputs": [],
   "source": [
    "iris.head()"
   ]
  },
  {
   "cell_type": "code",
   "execution_count": null,
   "id": "38e7f9c3",
   "metadata": {},
   "outputs": [],
   "source": [
    "iris.info()"
   ]
  },
  {
   "cell_type": "markdown",
   "id": "baac3f16",
   "metadata": {},
   "source": [
    "### b) Determinar o tamanho da amostra de cada tipo de classe."
   ]
  },
  {
   "cell_type": "code",
   "execution_count": null,
   "id": "e02ee27a",
   "metadata": {},
   "outputs": [],
   "source": [
    "sns.countplot(data=iris,x=\"Class\",color=\"blue\")\n",
    "plt.show()"
   ]
  },
  {
   "cell_type": "markdown",
   "id": "1c5bde3c",
   "metadata": {},
   "source": [
    "### c) A amostra é uniforme, ou temos diferentes alguma classe com mais elementos?\n"
   ]
  },
  {
   "cell_type": "markdown",
   "id": "0bff36a4",
   "metadata": {},
   "source": [
    "A amostra parece ser uniforme, com 50 observações em cada classe."
   ]
  },
  {
   "cell_type": "markdown",
   "id": "896651d9",
   "metadata": {},
   "source": [
    "### d) Calcular as correlações dentre as variáveis. Existem correlações muito extremas?"
   ]
  },
  {
   "cell_type": "code",
   "execution_count": null,
   "id": "c745e118",
   "metadata": {
    "scrolled": true
   },
   "outputs": [],
   "source": [
    "plt.figure(figsize=(10,5))\n",
    "sns.heatmap(iris.iloc[:,:-1].corr(),cmap=sns.cubehelix_palette(as_cmap=True),annot=True)\n",
    "plt.show()"
   ]
  },
  {
   "cell_type": "code",
   "execution_count": null,
   "id": "cb979fe8",
   "metadata": {
    "scrolled": true
   },
   "outputs": [],
   "source": [
    "iris.iloc[:,:-1].corr()"
   ]
  },
  {
   "cell_type": "markdown",
   "id": "eeadd687",
   "metadata": {},
   "source": [
    "A análise de correlações nos mostra que há altas correlações entre o comprimento e a largura de pétalas (\"petal length\" e \"petal width\", cerca de 0.96),\n",
    "assim como entre o comprimento das petalas e e o comprimento das sépalas (\"petal length\" e \"sepal length\", cerca de 0.87)"
   ]
  },
  {
   "cell_type": "markdown",
   "id": "f8f9bfec",
   "metadata": {},
   "source": [
    "## 2) Preparando os dados"
   ]
  },
  {
   "cell_type": "markdown",
   "id": "ef148665",
   "metadata": {},
   "source": [
    "### a) Boxplot das variáveis. Você diria que as variáveis têm valores similares?"
   ]
  },
  {
   "cell_type": "code",
   "execution_count": null,
   "id": "c00e0f62",
   "metadata": {
    "scrolled": false
   },
   "outputs": [],
   "source": [
    "plt.figure(figsize=(15,10))\n",
    "sns.boxplot(data=iris.iloc[:,:-1],color=\"green\")\n",
    "plt.show()"
   ]
  },
  {
   "cell_type": "code",
   "execution_count": null,
   "id": "a8dd96f2",
   "metadata": {},
   "outputs": [],
   "source": [
    "iris.describe()"
   ]
  },
  {
   "cell_type": "markdown",
   "id": "3b13a0c9",
   "metadata": {},
   "source": [
    "O boxplot apresenta os valores das variáveis que parecem estar em uma mesma escala variando de 0 a 8. Entretanto, enquanto algumas variáveis possuem valores mais elevados (como o comprimento de sépalas - entre 4 e 8), outras possuem valores mais baixos (como é o caso da largura das pétalas - entre 0 e 3)."
   ]
  },
  {
   "cell_type": "markdown",
   "id": "38b070c7",
   "metadata": {},
   "source": [
    "### b) Normalização das variáveis (média zero e desvio padrão igual a um)."
   ]
  },
  {
   "cell_type": "code",
   "execution_count": null,
   "id": "54d44dc4",
   "metadata": {},
   "outputs": [],
   "source": [
    "from sklearn.preprocessing import MinMaxScaler\n",
    "colunas=iris.iloc[:,:-1].columns\n",
    "irisscaled=iris.iloc[:,:-1].copy()\n",
    "norm=MinMaxScaler()\n",
    "irisscaled=pd.DataFrame(norm.fit_transform(irisscaled),columns=colunas)\n",
    "irisscaled.head()"
   ]
  },
  {
   "cell_type": "markdown",
   "id": "4e19c2f4",
   "metadata": {},
   "source": [
    "### c) Boxplot das variáveis normalizadas. Você diria que as variáveis têm valores similares?"
   ]
  },
  {
   "cell_type": "code",
   "execution_count": null,
   "id": "c6e2f56c",
   "metadata": {},
   "outputs": [],
   "source": [
    "plt.figure(figsize=(15,10))\n",
    "sns.boxplot(data=irisscaled,color='green')\n"
   ]
  },
  {
   "cell_type": "markdown",
   "id": "84672d65",
   "metadata": {},
   "source": [
    "## 3) Amostras de Treinamento e Teste"
   ]
  },
  {
   "cell_type": "markdown",
   "id": "d2f14125",
   "metadata": {},
   "source": [
    "### a) Separar a amostra em duas partes uma para de treino e uma para teste (divisão de 50/50 entre amostra de teste e treinamento)."
   ]
  },
  {
   "cell_type": "code",
   "execution_count": null,
   "id": "5af3c38d",
   "metadata": {},
   "outputs": [],
   "source": [
    "random.seed(12345)\n",
    "X=irisscaled.values\n",
    "Y=iris.iloc[:,-1].values"
   ]
  },
  {
   "cell_type": "code",
   "execution_count": null,
   "id": "dbe2c8a5",
   "metadata": {},
   "outputs": [],
   "source": [
    "from sklearn.model_selection import train_test_split\n",
    "X_train,X_test,Y_train,Y_test = train_test_split(X,Y,test_size = 0.5, random_state = 42)"
   ]
  },
  {
   "cell_type": "markdown",
   "id": "58e1e727",
   "metadata": {},
   "source": [
    "## 4) Modelo de Treinamento"
   ]
  },
  {
   "cell_type": "markdown",
   "id": "616bc6c2",
   "metadata": {},
   "source": [
    "### a) Carregue o pacote FNN"
   ]
  },
  {
   "cell_type": "markdown",
   "id": "2f585715",
   "metadata": {},
   "source": [
    "### b) Utilizar a função knn com a amostra de treinamento, e estime um KNN utilizando 2 vizinhos (k=2)"
   ]
  },
  {
   "cell_type": "code",
   "execution_count": null,
   "id": "f3b9dc14",
   "metadata": {},
   "outputs": [],
   "source": [
    "knn = KNeighborsClassifier(n_neighbors = 2)\n",
    "knn.fit(X_train,Y_train)\n",
    "pred_knn2 = knn.predict(X_test)"
   ]
  },
  {
   "cell_type": "markdown",
   "id": "a949add7",
   "metadata": {},
   "source": [
    "## 5) Avaliando a performance do modelo"
   ]
  },
  {
   "cell_type": "markdown",
   "id": "29df690b",
   "metadata": {},
   "source": [
    "### a) “confusion matrix” e avaliação do resultado do modelo. Qual é a precisão geral da classificação usando os dados do conjunto de teste? (dica para isso utilize o comando table)"
   ]
  },
  {
   "cell_type": "code",
   "execution_count": null,
   "id": "8d9c1fd5",
   "metadata": {},
   "outputs": [],
   "source": [
    "from sklearn.metrics import confusion_matrix\n",
    "mc = confusion_matrix(Y_test, pred_knn2)\n",
    "mc"
   ]
  },
  {
   "cell_type": "code",
   "execution_count": null,
   "id": "e6562966",
   "metadata": {},
   "outputs": [],
   "source": [
    "ratio = accuracy_score(Y_test, pred_knn2)\n",
    "ratio\n",
    "\n",
    "print('A precisão geral do modelo de classificação KNN2 é de:','{:.3f}'.format(ratio))"
   ]
  },
  {
   "cell_type": "markdown",
   "id": "7ecd2031",
   "metadata": {},
   "source": [
    "## 6) Melhorando a performance do modelo"
   ]
  },
  {
   "cell_type": "markdown",
   "id": "aa139b97",
   "metadata": {},
   "source": [
    "### a) Itens 4 e 5 utilizando a um total de 3, 5 e 7 vizinhos."
   ]
  },
  {
   "cell_type": "code",
   "execution_count": null,
   "id": "efc90f93",
   "metadata": {},
   "outputs": [],
   "source": [
    "knn3 = KNeighborsClassifier(n_neighbors = 3)\n",
    "knn3.fit(X_train,Y_train)\n",
    "pred_knn3 = knn3.predict(X_test)\n",
    "\n"
   ]
  },
  {
   "cell_type": "code",
   "execution_count": null,
   "id": "683cdebb",
   "metadata": {},
   "outputs": [],
   "source": [
    "from sklearn.metrics import confusion_matrix\n",
    "mc = confusion_matrix(Y_test, pred_knn3)\n",
    "mc\n"
   ]
  },
  {
   "cell_type": "code",
   "execution_count": null,
   "id": "5bc6340a",
   "metadata": {},
   "outputs": [],
   "source": [
    "ratio3 = accuracy_score(Y_test, pred_knn3)\n",
    "ratio3\n",
    "\n",
    "print('A precisão geral do modelo de classificação KNN3 é de:','{:.3f}'.format(ratio3))"
   ]
  },
  {
   "cell_type": "code",
   "execution_count": null,
   "id": "e42b06d7",
   "metadata": {},
   "outputs": [],
   "source": [
    "knn5 = KNeighborsClassifier(n_neighbors = 5)\n",
    "knn5.fit(X_train,Y_train)\n",
    "pred_knn5 = knn5.predict(X_test)"
   ]
  },
  {
   "cell_type": "code",
   "execution_count": null,
   "id": "a72d8f56",
   "metadata": {},
   "outputs": [],
   "source": [
    "from sklearn.metrics import confusion_matrix\n",
    "mc = confusion_matrix(Y_test, pred_knn5)\n",
    "mc"
   ]
  },
  {
   "cell_type": "code",
   "execution_count": null,
   "id": "9b7bc27a",
   "metadata": {},
   "outputs": [],
   "source": [
    "ratio5 = accuracy_score(Y_test, pred_knn5)\n",
    "ratio5\n",
    "\n",
    "print('A precisão geral do modelo de classificação KNN5 é de:','{:.3f}'.format(ratio5))"
   ]
  },
  {
   "cell_type": "code",
   "execution_count": null,
   "id": "7ea3efbd",
   "metadata": {},
   "outputs": [],
   "source": [
    "knn7 = KNeighborsClassifier(n_neighbors = 7)\n",
    "knn7.fit(X_train,Y_train)\n",
    "pred_knn7 = knn7.predict(X_test)\n",
    "\n",
    "from sklearn.metrics import confusion_matrix\n",
    "mc = confusion_matrix(Y_test, pred_knn7)\n",
    "mc\n",
    "\n",
    "ratio7 = accuracy_score(Y_test, pred_knn7)\n",
    "ratio7\n",
    "\n",
    "print('A precisão geral do modelo de classificação KNN7 é de:','{:.3f}'.format(ratio7))"
   ]
  },
  {
   "cell_type": "code",
   "execution_count": null,
   "id": "7165d0e0",
   "metadata": {},
   "outputs": [],
   "source": [
    "acuracia = []\n",
    "intervalo = range(1,75)\n",
    "for i in intervalo:\n",
    "    knn = KNeighborsClassifier(n_neighbors = i)\n",
    "    knn.fit(X_train,Y_train)\n",
    "    pred_knn = knn.predict(X_test)\n",
    "    ratio = accuracy_score(Y_test, pred_knn)\n",
    "    acuracia.append(ratio)\n",
    "sns.lineplot(x=intervalo,y=acuracia)\n",
    "plt.show()"
   ]
  },
  {
   "cell_type": "markdown",
   "id": "4aea49ac",
   "metadata": {},
   "source": [
    "### b) Há melhorias no modelo?"
   ]
  },
  {
   "cell_type": "markdown",
   "id": "cbbb68ed",
   "metadata": {},
   "source": [
    "Sim, houve melhora do modelo com o aumento do número de vizinhos. A acurácia aumenta para 0.987"
   ]
  },
  {
   "cell_type": "code",
   "execution_count": null,
   "id": "988111cf",
   "metadata": {},
   "outputs": [],
   "source": []
  }
 ],
 "metadata": {
  "kernelspec": {
   "display_name": "Python 3 (ipykernel)",
   "language": "python",
   "name": "python3"
  },
  "language_info": {
   "codemirror_mode": {
    "name": "ipython",
    "version": 3
   },
   "file_extension": ".py",
   "mimetype": "text/x-python",
   "name": "python",
   "nbconvert_exporter": "python",
   "pygments_lexer": "ipython3",
   "version": "3.9.13"
  }
 },
 "nbformat": 4,
 "nbformat_minor": 5
}
